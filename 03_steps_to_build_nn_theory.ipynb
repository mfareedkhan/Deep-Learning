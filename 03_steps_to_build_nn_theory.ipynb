{
 "cells": [
  {
   "cell_type": "markdown",
   "metadata": {},
   "source": [
    "# **10 Steps to create a Neural Network in Python with `TensorFlow`**"
   ]
  },
  {
   "cell_type": "markdown",
   "metadata": {},
   "source": [
    "1. **Install TensorFlow Library**\n",
    "   - Enable GPU during installation if you have that\n",
    "2. **Load the Data Set**\n",
    "3. **Data Preprocessing** \n",
    "   - missing values, outliers, scaling, encoding, etc.\n",
    "4. **Select Features (X) and Target (y)**\n",
    "5. **Splitting the Data Set** \n",
    "   - training set, testing set, validation set\n",
    "6. **Standardizing the Data** \n",
    "   - Scale the features data so that they have a mean of 0 and a standard deviation of 1.\n",
    "   - This standardization process helps in speeding up the training process and improving the performance. \n",
    "   - You may also use Min-Max Scaling or Robust Scaling.\n",
    "   - (`you can also perform this step before splitting the data set`)\n",
    "7. **Building the Neural Network Model** \n",
    "   - Define the Model Type (use a sequential model, which is a linear stack of layers)\n",
    "   - Add Layers (input layer > hidden layers > output layer)\n",
    "     - Add 1 hidden-layer with 10 neurons, and use the ReLU activation function for non-linear processing. \n",
    "     - Then add an output-layer with 1 neuron, and use the Sigmoid activation function for binary classification.  \n",
    "8.  **Compiling the Model**\n",
    "    - Prepare the model for training by setting the `optimizer` (here `adam` is a popular choice), `loss function` (`binary_crossentropy`, used for binary classification tasks), and the `metric` to evaluate (`accuracy`).\n",
    "    - Here optimizer (algorithm) will adjust the weights of the neurons to `minimize` the loss function and `maximize` the accuracy.\n",
    "9.  **Training the Model**\n",
    "    - Fit the model to the training data using the `fit` method. \n",
    "    - Set the `batch size` (number of samples per gradient update) and the `number of epochs` (number of iterations over the entire training data).\n",
    "10. **Evaluating the Model**\n",
    "    - Evaluate the model on the testing data using the `evaluate` method.   "
   ]
  }
 ],
 "metadata": {
  "kernelspec": {
   "display_name": "ydata_profiling",
   "language": "python",
   "name": "python3"
  },
  "language_info": {
   "name": "python",
   "version": "3.11.5"
  }
 },
 "nbformat": 4,
 "nbformat_minor": 2
}
